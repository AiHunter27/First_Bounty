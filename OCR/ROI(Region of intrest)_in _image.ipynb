{
 "cells": [
  {
   "cell_type": "code",
   "execution_count": null,
   "id": "7fb1801d",
   "metadata": {},
   "outputs": [],
   "source": [
    "# get region of intrest"
   ]
  },
  {
   "cell_type": "code",
   "execution_count": null,
   "id": "cd34b1f1",
   "metadata": {},
   "outputs": [],
   "source": [
    "# imports\n",
    "import cv2\n",
    "import pytesseract\n",
    "import glob\n",
    "import time\n",
    "import os"
   ]
  },
  {
   "cell_type": "code",
   "execution_count": null,
   "id": "c1cf753c",
   "metadata": {},
   "outputs": [],
   "source": [
    "video = glob.glob(\"C:/Users/Pathora/Documents/ocr/video/*\")\n",
    "video"
   ]
  },
  {
   "cell_type": "code",
   "execution_count": null,
   "id": "4c1b8d58",
   "metadata": {},
   "outputs": [],
   "source": [
    "filename = video[3][37:43]\n",
    "filename,video[3]"
   ]
  },
  {
   "cell_type": "code",
   "execution_count": null,
   "id": "973aa4ed",
   "metadata": {},
   "outputs": [],
   "source": [
    "#load pytesseract\n",
    "pytesseract.pytesseract.tesseract_cmd = r'C:\\Users\\Pathora\\AppData\\Local\\Programs\\Tesseract-OCR\\tesseract.exe'"
   ]
  },
  {
   "cell_type": "code",
   "execution_count": null,
   "id": "7cd778b1",
   "metadata": {},
   "outputs": [],
   "source": [
    "#video\n",
    "cap = cv2.VideoCapture(\"C:/Users/Pathora/Documents/ocr/video/video3.mov\")\n",
    "# cap = cv2.VideoCapture(\"video[0]\")\n",
    "# cap.set(cv2.CAP_PROP_FPS,5)\n"
   ]
  },
  {
   "cell_type": "code",
   "execution_count": null,
   "id": "e94b7662",
   "metadata": {},
   "outputs": [],
   "source": []
  },
  {
   "cell_type": "code",
   "execution_count": null,
   "id": "7c2c5c08",
   "metadata": {},
   "outputs": [],
   "source": [
    "try:\n",
    "    os.mkdir(filename)\n",
    "except:\n",
    "    print(\"file already exist\")\n"
   ]
  },
  {
   "cell_type": "code",
   "execution_count": null,
   "id": "dae49db8",
   "metadata": {},
   "outputs": [],
   "source": [
    "\n",
    "\n",
    "# # Get the frames per second of the video\n",
    "# fps = cap.get(cv2.CAP_PROP_FPS)\n",
    "\n",
    "# print(\"Video frame rate:\", fps)\n",
    "\n",
    "# # Release the video capture object\n",
    "# cap.release()"
   ]
  },
  {
   "cell_type": "code",
   "execution_count": null,
   "id": "a98c6c4d",
   "metadata": {},
   "outputs": [],
   "source": [
    "\n",
    "frame_num = 0\n",
    "\n",
    "while True:\n",
    "    # Read the current frame\n",
    "    ret, frame = cap.read()\n",
    "\n",
    "    if not ret:\n",
    "        # If the video has ended, break the loop\n",
    "        break\n",
    "\n",
    "    # Save the current frame as an image\n",
    "    cv2.imwrite(filename+\"/\"+\"frame_{}.jpg\".format(frame_num), frame)\n",
    "    frame_num += 1\n",
    "\n",
    "    # Exit the loop if the 'q' key is pressed\n",
    "    if cv2.waitKey(1) & 0xFF == ord('q'):\n",
    "        break\n",
    "\n",
    "# Release the video capture object\n",
    "cap.release()\n"
   ]
  },
  {
   "cell_type": "code",
   "execution_count": null,
   "id": "3cc4453f",
   "metadata": {},
   "outputs": [],
   "source": [
    "images = glob.glob(filename+\"/*jpg\")\n",
    "images.sort(key=os.path.getmtime)\n",
    "images,len(images)"
   ]
  },
  {
   "cell_type": "code",
   "execution_count": null,
   "id": "47bf440c",
   "metadata": {},
   "outputs": [],
   "source": [
    "len(images)"
   ]
  },
  {
   "cell_type": "code",
   "execution_count": null,
   "id": "b9ba4fc6",
   "metadata": {},
   "outputs": [],
   "source": [
    "images[0][7:]"
   ]
  },
  {
   "cell_type": "code",
   "execution_count": null,
   "id": "bb6c24de",
   "metadata": {},
   "outputs": [],
   "source": [
    "for img_file in images[::20]:\n",
    "#     print(img_file)\n",
    "    img = cv2.imread(img_file)\n",
    "    gray = cv2.cvtColor(img, cv2.COLOR_BGR2GRAY)\n",
    "    text = pytesseract.image_to_string(gray)\n",
    "    print(text)\n",
    "    print(\"========================================================{}\".format(img_file))\n",
    "    "
   ]
  },
  {
   "cell_type": "code",
   "execution_count": null,
   "id": "5423e024",
   "metadata": {},
   "outputs": [],
   "source": [
    "# img = cv2.imread(\"C:/Users/Pathora/Documents/ocr/video3/frame_0.jpg\")\n",
    "img = cv2.imread(images[0])\n",
    "cv2.namedWindow(\"Image\", cv2.WINDOW_NORMAL)\n",
    "cv2.setWindowProperty(\"Image\", cv2.WND_PROP_ASPECT_RATIO, cv2.WINDOW_KEEPRATIO)\n",
    "cv2.imshow(\"Image\", img)\n",
    "cv2.waitKey(0)\n",
    "\n",
    "# closing all open windows\n",
    "cv2.destroyAllWindows()"
   ]
  },
  {
   "cell_type": "markdown",
   "id": "29b465cc",
   "metadata": {},
   "source": [
    "# ROI code BLOCK"
   ]
  },
  {
   "cell_type": "code",
   "execution_count": null,
   "id": "eafdc61b",
   "metadata": {},
   "outputs": [],
   "source": [
    "# roi image\n",
    "\n",
    "import cv2\n",
    "import pytesseract\n",
    "\n",
    "# Load the image\n",
    "img = cv2.imread(images[0])\n",
    "\n",
    "# fix the aspect ratio\n",
    "\n",
    "cv2.namedWindow(\"image\", cv2.WINDOW_NORMAL)\n",
    "cv2.setWindowProperty(\"image\", cv2.WND_PROP_ASPECT_RATIO, cv2.WINDOW_KEEPRATIO)\n",
    "\n",
    "def mouse_callback(event, x, y, flags, param):\n",
    "    if event == cv2.EVENT_LBUTTONDOWN:\n",
    "        # Get the ROI at the mouse position\n",
    "        roi = img[y-250:y+250, x-250:x+250]\n",
    "\n",
    "        # Apply OCR to the ROI\n",
    "        text = pytesseract.image_to_string(roi)\n",
    "        print(text)\n",
    "        print(\"++++++++++++++++++++++++\")\n",
    "    if event == cv2.EVENT_RBUTTONDOWN:\n",
    "        # Get the ROI at the mouse position\n",
    "        \n",
    "\n",
    "        # Apply OCR to the ROI\n",
    "        text = pytesseract.image_to_string(roi)\n",
    "        print(text)\n",
    "        print(\"====================================\")\n",
    "\n",
    "\n",
    "cv2.setMouseCallback(\"image\", mouse_callback)\n",
    "#cv2.namedWindow(\"Image\")\n",
    "\n",
    "while True:\n",
    "    cv2.imshow(\"image\", img)\n",
    "    if cv2.waitKey(1) & 0xFF == ord(\"q\"):\n",
    "        break\n",
    "\n",
    "cv2.destroyAllWindows()\n"
   ]
  },
  {
   "cell_type": "code",
   "execution_count": null,
   "id": "3fd16d6a",
   "metadata": {},
   "outputs": [],
   "source": [
    "import cv2\n",
    "import pytesseract\n",
    "\n",
    "# Load the image\n",
    "img = cv2.imread(images[0])\n",
    "\n",
    "# Define the cursor template to be matched\n",
    "template = cv2.imread(\"cursor_template.jpg\", 0)\n",
    "\n",
    "# Perform template matching to find the cursor in the image\n",
    "result = cv2.matchTemplate(img, template, cv2.TM_CCOEFF_NORMED)\n",
    "\n",
    "# Get the coordinates of the cursor in the image\n",
    "min_val, max_val, min_loc, max_loc = cv2.minMaxLoc(result)\n",
    "cursor_x, cursor_y = max_loc\n",
    "\n",
    "# Get the ROI around the cursor\n",
    "roi = img[cursor_y-250:cursor_y+250, cursor_x-250:cursor_x+250]\n",
    "\n",
    "# Apply OCR to the ROI\n",
    "text = pytesseract.image_to_string(roi)\n",
    "print(text)\n"
   ]
  },
  {
   "cell_type": "code",
   "execution_count": null,
   "id": "a957f0af",
   "metadata": {},
   "outputs": [],
   "source": []
  },
  {
   "cell_type": "code",
   "execution_count": null,
   "id": "aa139396",
   "metadata": {},
   "outputs": [],
   "source": []
  },
  {
   "cell_type": "code",
   "execution_count": null,
   "id": "3d54eecc",
   "metadata": {},
   "outputs": [],
   "source": []
  }
 ],
 "metadata": {
  "kernelspec": {
   "display_name": "Python 3 (ipykernel)",
   "language": "python",
   "name": "python3"
  },
  "language_info": {
   "codemirror_mode": {
    "name": "ipython",
    "version": 3
   },
   "file_extension": ".py",
   "mimetype": "text/x-python",
   "name": "python",
   "nbconvert_exporter": "python",
   "pygments_lexer": "ipython3",
   "version": "3.10.11"
  }
 },
 "nbformat": 4,
 "nbformat_minor": 5
}
