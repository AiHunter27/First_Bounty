{
 "cells": [
  {
   "cell_type": "code",
   "execution_count": 6,
   "id": "0457cf4a",
   "metadata": {},
   "outputs": [
    {
     "name": "stderr",
     "output_type": "stream",
     "text": [
      "C:\\Users\\Pathora\\AppData\\Local\\Temp\\ipykernel_15740\\2417386668.py:32: DeprecationWarning: `np.int0` is a deprecated alias for `np.intp`.  (Deprecated NumPy 1.24)\n",
      "  box = np.int0(box)\n"
     ]
    },
    {
     "name": "stdout",
     "output_type": "stream",
     "text": [
      "730\n"
     ]
    }
   ],
   "source": [
    "import cv2\n",
    "import numpy as np\n",
    "\n",
    "# read and scale down image\n",
    "# wget https://bigsnarf.files.wordpress.com/2017/05/hammer.png #black and white\n",
    "# wget https://i1.wp.com/images.hgmsites.net/hug/2011-volvo-s60_100323431_h.jpg\n",
    "img = cv2.pyrDown(cv2.imread('image2.png', cv2.IMREAD_UNCHANGED))\n",
    "\n",
    "# threshold image\n",
    "ret, threshed_img = cv2.threshold(cv2.cvtColor(img, cv2.COLOR_BGR2GRAY),\n",
    "                127, 255, cv2.THRESH_BINARY)\n",
    "# find contours and get the external one\n",
    "\n",
    "contours, hier = cv2.findContours(threshed_img, cv2.RETR_TREE, cv2.CHAIN_APPROX_SIMPLE)\n",
    "\n",
    "#image, contours, hier = cv2.findContours(threshed_img, cv2.RETR_TREE,\n",
    "#                cv2.CHAIN_APPROX_SIMPLE)\n",
    "\n",
    "# with each contour, draw boundingRect in green\n",
    "# a minAreaRect in red and\n",
    "# a minEnclosingCircle in blue\n",
    "for c in contours:\n",
    "    # get the bounding rect\n",
    "    x, y, w, h = cv2.boundingRect(c)\n",
    "    # draw a green rectangle to visualize the bounding rect\n",
    "    cv2.rectangle(img, (x, y), (x+w, y+h), (0, 255, 0), 2)\n",
    "\n",
    "    # get the min area rect\n",
    "    rect = cv2.minAreaRect(c)\n",
    "    box = cv2.boxPoints(rect)\n",
    "    # convert all coordinates floating point values to int\n",
    "    box = np.int0(box)\n",
    "    # draw a red 'nghien' rectangle\n",
    "    cv2.drawContours(img, [box], 0, (0, 0, 255))\n",
    "\n",
    "    # finally, get the min enclosing circle\n",
    "    (x, y), radius = cv2.minEnclosingCircle(c)\n",
    "    # convert all values to int\n",
    "    center = (int(x), int(y))\n",
    "    radius = int(radius)\n",
    "    # and draw the circle in blue\n",
    "    img = cv2.circle(img, center, radius, (255, 0, 0), 2)\n",
    "\n",
    "print(len(contours))\n",
    "cv2.drawContours(img, contours, -1, (255, 255, 0), 1)\n",
    "\n",
    "cv2.imshow(\"contours\", img)\n",
    "\n",
    "cv2.imshow(\"contours\", img)\n",
    "\n",
    "while True:\n",
    "    key = cv2.waitKey(1)\n",
    "    if key == 27: #ESC key to break\n",
    "        break\n",
    "\n",
    "cv2.destroyAllWindows()"
   ]
  },
  {
   "cell_type": "code",
   "execution_count": null,
   "id": "e357e7b1",
   "metadata": {},
   "outputs": [],
   "source": []
  }
 ],
 "metadata": {
  "kernelspec": {
   "display_name": "Python 3 (ipykernel)",
   "language": "python",
   "name": "python3"
  },
  "language_info": {
   "codemirror_mode": {
    "name": "ipython",
    "version": 3
   },
   "file_extension": ".py",
   "mimetype": "text/x-python",
   "name": "python",
   "nbconvert_exporter": "python",
   "pygments_lexer": "ipython3",
   "version": "3.10.10"
  }
 },
 "nbformat": 4,
 "nbformat_minor": 5
}
