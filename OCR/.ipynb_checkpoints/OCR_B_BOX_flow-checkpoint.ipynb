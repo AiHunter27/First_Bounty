{
 "cells": [
  {
   "cell_type": "code",
   "execution_count": null,
   "id": "adcf156f",
   "metadata": {},
   "outputs": [],
   "source": [
    "# draw boundry box around words"
   ]
  },
  {
   "cell_type": "code",
   "execution_count": null,
   "id": "3eb0177e",
   "metadata": {},
   "outputs": [],
   "source": [
    "import cv2\n",
    "import pytesseract\n",
    "pytesseract.pytesseract.tesseract_cmd = r'C:\\Users\\Pathora\\AppData\\Local\\Programs\\Tesseract-OCR\\tesseract.exe'\n",
    "import time"
   ]
  },
  {
   "cell_type": "code",
   "execution_count": null,
   "id": "257513f2",
   "metadata": {},
   "outputs": [],
   "source": [
    "# Reading image\n",
    "img = cv2.imread(\"D:/documents/data/google_ads.png\")\n",
    "# Convert to RGB\n",
    "img = cv2.cvtColor(img, cv2.COLOR_BGR2RGB)\n",
    "img = cv2.resize(img,(1904,900))\n",
    "# Show the Output\n",
    "# cv2.imshow(\"Output\", img)\n",
    "# cv2.waitKey(0)\n",
    "# key = cv2.waitKey(0)\n",
    "# if key == ord(\"q\"):\n",
    "#     cv2.destroyAllWindows()"
   ]
  },
  {
   "cell_type": "code",
   "execution_count": null,
   "id": "bbd478bd",
   "metadata": {},
   "outputs": [],
   "source": [
    "texts = pytesseract.image_to_string(img)\n"
   ]
  },
  {
   "cell_type": "code",
   "execution_count": null,
   "id": "e693ef42",
   "metadata": {},
   "outputs": [],
   "source": [
    "path = \"D:/documents/data/google_ads.png\"\n",
    "def ocr(path):\n",
    "    img = cv2.imread(path)\n",
    "    # Convert to RGB\n",
    "    img = cv2.cvtColor(img, cv2.COLOR_BGR2RGB)\n",
    "    img = cv2.resize(img,(1904,900))\n",
    "    text = pytesseract.image_to_string(img)\n",
    "    return text\n",
    "    "
   ]
  },
  {
   "cell_type": "code",
   "execution_count": null,
   "id": "0b353cac",
   "metadata": {},
   "outputs": [],
   "source": [
    "# Return each detected character and their bounding boxes. \n",
    "boxes = pytesseract.image_to_boxes(img)\n",
    "print(boxes)"
   ]
  },
  {
   "cell_type": "code",
   "execution_count": null,
   "id": "2482c2bd",
   "metadata": {},
   "outputs": [],
   "source": [
    "# def draw_boxes_on_character(img):\n",
    "#     img_width = img.shape[1]\n",
    "#     img_height = img.shape[0]\n",
    "#     boxes = pytesseract.image_to_boxes(img)\n",
    "#     for box in boxes.splitlines():\n",
    "#         box = box.split(\" \")\n",
    "#         character = box[0]\n",
    "#         x = int(box[1])\n",
    "#         y = int(box[2])\n",
    "#         x2 = int(box[3])\n",
    "#         y2 = int(box[4])\n",
    "#         cv2.rectangle(img, (x, img_height - y), (x2, img_height - y2), (0, 255, 0), 1)\n",
    " \n",
    "#         cv2.putText(img, character, (x, img_height -y2), cv2.FONT_HERSHEY_COMPLEX, 0.5, (0, 0, 255), 1)\n",
    "       \n",
    "#     return img\n",
    "\n",
    "# def draw_boxes_on_text(img):\n",
    "#     # Return raw information about the detected texts\n",
    "#     raw_data = pytesseract.image_to_data(img)\n",
    "\n",
    "#     for count, data in enumerate(raw_data.splitlines()):\n",
    "#         if count > 0:\n",
    "#             data = data.split()\n",
    "# #             print(data)\n",
    "#             if len(data) == 12:\n",
    "#                 x, y, w, h, content = int(data[6]), int(data[7]), int(data[8]), int(data[9]), data[11]\n",
    "#                 cv2.rectangle(img, (x, y), (w+x, h+y), (0, 255, 0), 1)\n",
    "# #                 cv2.putText(img, content, (x, y), cv2.FONT_HERSHEY_COMPLEX, 0.5, (0, 0, 255) , 1)\n",
    "                \n",
    "#     return img\n",
    " \n"
   ]
  },
  {
   "cell_type": "code",
   "execution_count": null,
   "id": "c150a2d5",
   "metadata": {},
   "outputs": [],
   "source": [
    "import re\n",
    "\n",
    "def draw_boxes_on_text(img):\n",
    "    # Return raw information about the detected texts\n",
    "    raw_data = pytesseract.image_to_data(img)\n",
    "\n",
    "    for count, data in enumerate(raw_data.splitlines()):\n",
    "        if count > 0:\n",
    "            data = data.split()\n",
    "            if len(data) == 12:\n",
    "                x, y, w, h, content = int(data[6]), int(data[7]), int(data[8]), int(data[9]), data[11]\n",
    "                # Use a regular expression pattern to filter out special characters\n",
    "                content = re.sub(r'[^a-zA-Z0-9]+', '', content)\n",
    "                \n",
    "                if len(content) > 0:\n",
    "                    print(\"data:-{}\\nx:-{}\\ny:-{}\\nw+x:-{}\\nh+y:-{}\\nwidth:-{}\\nheight:-{}\".format(content,x,y,w+x,h+y,w,h))\n",
    "                    print(\"============================================\")\n",
    "                    cv2.rectangle(img, (x, y), (w+x, h+y), (0, 255, 0), 1)\n",
    "#                     cv2.putText(img, content, (x, y), cv2.FONT_HERSHEY_COMPLEX, 0.5, (0, 0, 255) , 1)\n",
    "                    \n",
    "                #title logic\n",
    "                    if h > 40: #w >140\n",
    "                        cv2.rectangle(img, (x, y), (w+x, h+y), (0, 0, 0), 1)\n",
    "                        cv2.putText(img, \"Title\", (x, y), cv2.FONT_HERSHEY_COMPLEX, 0.5, (0, 0, 255) , 1)\n",
    "                        \n",
    "                    \n",
    "                    \n",
    "                \n",
    "    return img\n"
   ]
  },
  {
   "cell_type": "code",
   "execution_count": null,
   "id": "96cb3b9a",
   "metadata": {
    "scrolled": false
   },
   "outputs": [],
   "source": [
    "# # Return raw information about the detected texts\n",
    "# raw_data = pytesseract.image_to_data(img)\n",
    "# print(raw_data )"
   ]
  },
  {
   "cell_type": "code",
   "execution_count": null,
   "id": "4c4df292",
   "metadata": {},
   "outputs": [],
   "source": [
    "# img_c = draw_boxes_on_character(img)\n",
    "# cv2.imshow(\"Output\", img_c)\n",
    "# cv2.waitKey(0)\n",
    "# key = cv2.waitKey(0)\n",
    "# if key == ord(\"q\"):\n",
    "#     cv2.destroyAllWindows()"
   ]
  },
  {
   "cell_type": "code",
   "execution_count": null,
   "id": "03cef9c2",
   "metadata": {},
   "outputs": [],
   "source": [
    "img_t = draw_boxes_on_text(img)\n",
    "cv2.imshow(\"Output\", img_t)\n",
    "cv2.waitKey(0)\n",
    "key = cv2.waitKey(0)\n",
    "if key == ord(\"q\"):\n",
    "    cv2.destroyAllWindows()"
   ]
  },
  {
   "cell_type": "code",
   "execution_count": null,
   "id": "2c4c385c",
   "metadata": {},
   "outputs": [],
   "source": [
    "703*226/1000"
   ]
  },
  {
   "cell_type": "code",
   "execution_count": null,
   "id": "47164372",
   "metadata": {},
   "outputs": [],
   "source": []
  },
  {
   "cell_type": "code",
   "execution_count": null,
   "id": "52f78c8f",
   "metadata": {},
   "outputs": [],
   "source": []
  },
  {
   "cell_type": "code",
   "execution_count": null,
   "id": "dbd9893d",
   "metadata": {},
   "outputs": [],
   "source": []
  },
  {
   "cell_type": "code",
   "execution_count": null,
   "id": "5c5e091b",
   "metadata": {},
   "outputs": [],
   "source": []
  },
  {
   "cell_type": "code",
   "execution_count": null,
   "id": "acb39e5d",
   "metadata": {},
   "outputs": [],
   "source": []
  },
  {
   "cell_type": "code",
   "execution_count": null,
   "id": "732b1128",
   "metadata": {},
   "outputs": [],
   "source": []
  },
  {
   "cell_type": "code",
   "execution_count": null,
   "id": "02261f1c",
   "metadata": {},
   "outputs": [],
   "source": []
  },
  {
   "cell_type": "code",
   "execution_count": null,
   "id": "95e6e9b0",
   "metadata": {},
   "outputs": [],
   "source": []
  },
  {
   "cell_type": "code",
   "execution_count": null,
   "id": "3c9648e6",
   "metadata": {},
   "outputs": [],
   "source": []
  },
  {
   "cell_type": "code",
   "execution_count": null,
   "id": "79202988",
   "metadata": {},
   "outputs": [],
   "source": []
  },
  {
   "cell_type": "code",
   "execution_count": null,
   "id": "b54ed505",
   "metadata": {},
   "outputs": [],
   "source": []
  },
  {
   "cell_type": "code",
   "execution_count": null,
   "id": "b260afac",
   "metadata": {},
   "outputs": [],
   "source": []
  },
  {
   "cell_type": "code",
   "execution_count": null,
   "id": "3d44dfc6",
   "metadata": {},
   "outputs": [],
   "source": []
  },
  {
   "cell_type": "code",
   "execution_count": null,
   "id": "562669ae",
   "metadata": {},
   "outputs": [],
   "source": []
  },
  {
   "cell_type": "code",
   "execution_count": null,
   "id": "ffe4ca32",
   "metadata": {},
   "outputs": [],
   "source": []
  },
  {
   "cell_type": "code",
   "execution_count": null,
   "id": "3bcd80df",
   "metadata": {},
   "outputs": [],
   "source": []
  },
  {
   "cell_type": "code",
   "execution_count": null,
   "id": "0c1c9453",
   "metadata": {},
   "outputs": [],
   "source": []
  },
  {
   "cell_type": "code",
   "execution_count": null,
   "id": "3d43b8ab",
   "metadata": {},
   "outputs": [],
   "source": []
  },
  {
   "cell_type": "code",
   "execution_count": null,
   "id": "a92951b3",
   "metadata": {},
   "outputs": [],
   "source": []
  },
  {
   "cell_type": "code",
   "execution_count": null,
   "id": "11cfebc4",
   "metadata": {},
   "outputs": [],
   "source": []
  },
  {
   "cell_type": "code",
   "execution_count": null,
   "id": "c5294916",
   "metadata": {},
   "outputs": [],
   "source": []
  },
  {
   "cell_type": "code",
   "execution_count": null,
   "id": "43d8761c",
   "metadata": {},
   "outputs": [],
   "source": [
    "from pytesseract import*\n",
    "import argparse\n",
    "import cv2\n",
    "  \n",
    "  \n",
    "\n",
    "\n",
    "images = cv2.imread(\"5.png\")\n",
    "rgb = cv2.cvtColor(images, cv2.COLOR_BGR2RGB)\n",
    "results = pytesseract.image_to_data(rgb, output_type=Output.DICT)\n",
    "  \n",
    "# Then loop over each of the individual text\n",
    "# localizations\n",
    "for i in range(0, len(results[\"text\"])):\n",
    "      \n",
    "    # We can then extract the bounding box coordinates\n",
    "    # of the text region from  the current result\n",
    "    x = results[\"left\"][i]\n",
    "    y = results[\"top\"][i]\n",
    "    w = results[\"width\"][i]\n",
    "    h = results[\"height\"][i]\n",
    "      \n",
    "    # We will also extract the OCR text itself along\n",
    "    # with the confidence of the text localization\n",
    "    text = results[\"text\"][i]\n",
    "    conf = int(results[\"conf\"][i])\n",
    "      \n",
    "    # filter out weak confidence text localizations\n",
    "    if conf > 95:\n",
    "          \n",
    "        # We will display the confidence and text to\n",
    "        # our terminal\n",
    "        print(\"Confidence: {}\".format(conf))\n",
    "        print(\"Text: {}\".format(text))\n",
    "        print(\"\")\n",
    "          \n",
    "        # We then strip out non-ASCII text so we can\n",
    "        # draw the text on the image We will be using\n",
    "        # OpenCV, then draw a bounding box around the\n",
    "        # text along with the text itself\n",
    "        text = \"\".join(text).strip()\n",
    "        cv2.rectangle(images,\n",
    "                      (x, y),\n",
    "                      (x + w, y + h),\n",
    "                      (0, 0, 255), 2)\n",
    "        cv2.putText(images,\n",
    "                    text,\n",
    "                    (x, y - 10), \n",
    "                    cv2.FONT_HERSHEY_SIMPLEX,\n",
    "                    1.2, (0, 255, 255), 3)\n",
    "          \n",
    "# After all, we will show the output image\n",
    "cv2.imshow(\"Image\", images)\n",
    "cv2.waitKey(0)"
   ]
  },
  {
   "cell_type": "code",
   "execution_count": null,
   "id": "94de4155",
   "metadata": {},
   "outputs": [],
   "source": []
  }
 ],
 "metadata": {
  "kernelspec": {
   "display_name": "Python 3 (ipykernel)",
   "language": "python",
   "name": "python3"
  },
  "language_info": {
   "codemirror_mode": {
    "name": "ipython",
    "version": 3
   },
   "file_extension": ".py",
   "mimetype": "text/x-python",
   "name": "python",
   "nbconvert_exporter": "python",
   "pygments_lexer": "ipython3",
   "version": "3.10.11"
  }
 },
 "nbformat": 4,
 "nbformat_minor": 5
}
